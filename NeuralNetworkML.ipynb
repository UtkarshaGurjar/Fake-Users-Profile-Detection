{
 "cells": [
  {
   "cell_type": "code",
   "execution_count": 21,
   "metadata": {},
   "outputs": [],
   "source": [
    "## Feed Forward Neural Implementation"
   ]
  },
  {
   "cell_type": "code",
   "execution_count": 1,
   "metadata": {},
   "outputs": [],
   "source": [
    "import pandas as pd\n",
    "import numpy as np\n",
    "import matplotlib.pyplot as plt\n",
    "from sklearn.model_selection import train_test_split\n",
    "import keras\n",
    "from tensorflow.keras.models import Sequential\n",
    "from tensorflow.keras import optimizers\n",
    "from tensorflow.keras.layers import Dense, Dropout, Activation\n",
    "\n",
    "from tensorflow.keras import regularizers\n"
   ]
  },
  {
   "cell_type": "code",
   "execution_count": 2,
   "metadata": {},
   "outputs": [],
   "source": [
    "'''\n",
    "Creating dataframes by reading genuine users2.csv and fake users fakeusers1.csv\n",
    "'''\n",
    "df_users = pd.read_csv(\"users2.csv\")\n",
    "df_fusers = pd.read_csv(\"fakeusers1.csv\")"
   ]
  },
  {
   "cell_type": "code",
   "execution_count": 3,
   "metadata": {},
   "outputs": [
    {
     "name": "stdout",
     "output_type": "stream",
     "text": [
      "Number of genuine users\n",
      "1481\n",
      "Number of fake users\n",
      "1337\n"
     ]
    }
   ],
   "source": [
    "\n",
    "print(\"Number of genuine users\")\n",
    "print(len(df_users))\n",
    "\n",
    "print(\"Number of fake users\")\n",
    "print(len(df_fusers))"
   ]
  },
  {
   "cell_type": "code",
   "execution_count": 19,
   "metadata": {},
   "outputs": [],
   "source": [
    "#Creating numpy array of zeros for attribute isFake, here zero means fake user and 1 means genuine user\n",
    "fk = np.zeros(len(df_fusers))\n",
    "\n",
    "#creating an array of ones for isFake attribute\n",
    "ntFk = np.ones(len(df_users))\n",
    "\n",
    "#adding new attributes to the data frame of fake and genuine users\n",
    "df_fusers[\"isFake\"] = fk\n",
    "df_users[\"isFake\"] = ntFk\n"
   ]
  },
  {
   "cell_type": "code",
   "execution_count": 20,
   "metadata": {},
   "outputs": [
    {
     "data": {
      "text/plain": [
       "[RangeIndex(start=0, stop=2818, step=1),\n",
       " Index(['id', 'name', 'screen_name', 'statuses_count', 'followers_count',\n",
       "        'friends_count', 'favourites_count', 'listed_count', 'created_at',\n",
       "        'url', 'lang', 'time_zone', 'location', 'default_profile',\n",
       "        'default_profile_image', 'geo_enabled', 'profile_image_url',\n",
       "        'profile_banner_url', 'profile_use_background_image',\n",
       "        'profile_background_image_url_https', 'profile_text_color',\n",
       "        'profile_image_url_https', 'profile_sidebar_border_color',\n",
       "        'profile_background_tile', 'profile_sidebar_fill_color',\n",
       "        'profile_background_image_url', 'profile_background_color',\n",
       "        'profile_link_color', 'utc_offset', 'protected', 'verified',\n",
       "        'description', 'updated', 'dataset', 'isFake'],\n",
       "       dtype='object')]"
      ]
     },
     "execution_count": 20,
     "metadata": {},
     "output_type": "execute_result"
    }
   ],
   "source": [
    "'''\n",
    "Creating one single data frame by concatenating the two data frames\n",
    "'''\n",
    "combine_d = pd.concat([df_fusers, df_users], ignore_index=True)\n",
    "\n",
    "combine_d.axes\n"
   ]
  },
  {
   "cell_type": "code",
   "execution_count": 6,
   "metadata": {},
   "outputs": [],
   "source": [
    "combine_d.columns = combine_d.columns.str.strip()\n",
    "\n",
    "combine_d.axes\n",
    "#suffling the data\n",
    "combine_d = combine_d.sample(frac=1).reset_index(drop=True)"
   ]
  },
  {
   "cell_type": "code",
   "execution_count": 7,
   "metadata": {},
   "outputs": [],
   "source": [
    "\n",
    "combine_d.axes\n",
    "# Creating target variable\n",
    "target = combine_d.isFake"
   ]
  },
  {
   "cell_type": "code",
   "execution_count": 8,
   "metadata": {},
   "outputs": [],
   "source": [
    "combine_d.drop([\"isFake\"], axis=1, inplace=True)\n",
    "input_X= combine_d"
   ]
  },
  {
   "cell_type": "code",
   "execution_count": 9,
   "metadata": {},
   "outputs": [],
   "source": [
    "target.reset_index(drop=True, inplace=True)"
   ]
  },
  {
   "cell_type": "code",
   "execution_count": 10,
   "metadata": {},
   "outputs": [],
   "source": [
    "\n",
    "# Below will create a mapping of language with numerical value\n",
    "language_ls = list(enumerate(np.unique(input_X[\"lang\"])))\n",
    "language_dict = {name : i for i, name in language_ls}\n",
    "input_X.loc[:, \"lang_num\"] = input_X[\"lang\"].map(lambda x: language_dict[x]).astype(int)\n",
    "\n",
    "input_X.drop([\"name\"], axis=1, inplace=True)"
   ]
  },
  {
   "cell_type": "code",
   "execution_count": 11,
   "metadata": {},
   "outputs": [],
   "source": [
    "input_X = input_X[[\n",
    "    \"statuses_count\",\n",
    "    \"followers_count\",\n",
    "    \"friends_count\",\n",
    "    \"favourites_count\",\n",
    "    \"lang_num\",\n",
    "    \"listed_count\",\n",
    "    \"geo_enabled\",\n",
    "    \"utc_offset\",\n",
    "    \"profile_use_background_image\"\n",
    "                        ]]"
   ]
  },
  {
   "cell_type": "code",
   "execution_count": 12,
   "metadata": {},
   "outputs": [],
   "source": [
    "# imputing missing values with false\n",
    "input_X = input_X.replace(np.nan, 0)"
   ]
  },
  {
   "cell_type": "code",
   "execution_count": 13,
   "metadata": {},
   "outputs": [],
   "source": [
    "# splitting the data in train and test set\n",
    "train_X, test_X, train_y, test_y = train_test_split(input_X, target, train_size=0.8, test_size=0.2, random_state=0)"
   ]
  },
  {
   "cell_type": "code",
   "execution_count": 14,
   "metadata": {},
   "outputs": [
    {
     "name": "stdout",
     "output_type": "stream",
     "text": [
      "(2254, 9)\n",
      "(564, 9)\n",
      "(2254,)\n",
      "(564,)\n"
     ]
    }
   ],
   "source": [
    "print(train_X.shape)\n",
    "print(test_X.shape)\n",
    "print(train_y.shape)\n",
    "print(test_y.shape)"
   ]
  },
  {
   "cell_type": "code",
   "execution_count": 15,
   "metadata": {},
   "outputs": [],
   "source": [
    "from numpy.random import seed\n",
    "seed(1)"
   ]
  },
  {
   "cell_type": "code",
   "execution_count": 16,
   "metadata": {},
   "outputs": [
    {
     "name": "stdout",
     "output_type": "stream",
     "text": [
      "WARNING:tensorflow:From C:\\Users\\aanch\\Anaconda3\\lib\\site-packages\\tensorflow\\python\\ops\\init_ops.py:1251: calling VarianceScaling.__init__ (from tensorflow.python.ops.init_ops) with dtype is deprecated and will be removed in a future version.\n",
      "Instructions for updating:\n",
      "Call initializer instance with the dtype argument instead of passing it to the constructor\n",
      "WARNING:tensorflow:From C:\\Users\\aanch\\Anaconda3\\lib\\site-packages\\tensorflow\\python\\ops\\nn_impl.py:180: add_dispatch_support.<locals>.wrapper (from tensorflow.python.ops.array_ops) is deprecated and will be removed in a future version.\n",
      "Instructions for updating:\n",
      "Use tf.where in 2.0, which has the same broadcast rule as np.where\n",
      "Epoch 1/8\n",
      "2254/2254 [==============================] - 0s 68us/sample - loss: 35.9367 - acc: 0.9002\n",
      "Epoch 2/8\n",
      "2254/2254 [==============================] - 0s 51us/sample - loss: 14.9548 - acc: 0.9738\n",
      "Epoch 3/8\n",
      "2254/2254 [==============================] - 0s 28us/sample - loss: 8.3130 - acc: 0.9769\n",
      "Epoch 4/8\n",
      "2254/2254 [==============================] - 0s 30us/sample - loss: 5.4981 - acc: 0.9778\n",
      "Epoch 5/8\n",
      "2254/2254 [==============================] - 0s 33us/sample - loss: 3.9573 - acc: 0.9672\n",
      "Epoch 6/8\n",
      "2254/2254 [==============================] - 0s 51us/sample - loss: 2.8428 - acc: 0.9561\n",
      "Epoch 7/8\n",
      "2254/2254 [==============================] - 0s 47us/sample - loss: 2.2509 - acc: 0.9747\n",
      "Epoch 8/8\n",
      "2254/2254 [==============================] - 0s 26us/sample - loss: 1.7982 - acc: 0.9854\n"
     ]
    },
    {
     "data": {
      "image/png": "[encoded data removed]",
      "text/plain": [
       "<Figure size 432x288 with 1 Axes>"
      ]
     },
     "metadata": {
      "needs_background": "light"
     },
     "output_type": "display_data"
    },
    {
     "data": {
      "image/png": "[encoded data removed]",
      "text/plain": [
       "<Figure size 432x288 with 1 Axes>"
      ]
     },
     "metadata": {
      "needs_background": "light"
     },
     "output_type": "display_data"
    }
   ],
   "source": [
    "# Creating the model with one hidden layer \n",
    "model = Sequential()\n",
    "model.add(Dense(32, activation='relu', input_dim=9))\n",
    "model.add(Dense(64, input_dim=32,\n",
    "                kernel_regularizer=regularizers.l2(0.0079),\n",
    "                activity_regularizer=regularizers.l1(0.0026), activation='relu'))\n",
    "model.add(Dense(1, activation='sigmoid'))\n",
    "model.compile(optimizer='rmsprop',\n",
    "              loss='binary_crossentropy',\n",
    "              metrics=['accuracy'])\n",
    "\n",
    "history_data = model.fit(train_X, train_y, epochs=8)\n",
    "\n",
    "# Plot training & validation accuracy values\n",
    "plt.plot(history_data.history['acc'])\n",
    "plt.title('Model Accuracy')\n",
    "plt.ylabel('Accuracy')\n",
    "plt.xlabel('Epoch')\n",
    "plt.legend(['Train', 'Test'], loc='center right')\n",
    "plt.show()\n",
    "\n",
    "# Plot training & validation loss values\n",
    "plt.plot(history_data.history['loss'])\n",
    "plt.title('Model Loss')\n",
    "plt.ylabel('Loss')\n",
    "plt.xlabel('Epoch')\n",
    "plt.legend(['Train', 'Test'], loc='center right')\n",
    "plt.show()"
   ]
  },
  {
   "cell_type": "code",
   "execution_count": 17,
   "metadata": {},
   "outputs": [
    {
     "name": "stdout",
     "output_type": "stream",
     "text": [
      "564/564 [==============================] - 0s 58us/sample - loss: 3.9663 - acc: 0.9911\n",
      "==================================================\n",
      "Accuracy for testing date 99.1134762763977\n",
      "==================================================\n"
     ]
    }
   ],
   "source": [
    "#Evaluating model on validation set\n",
    "sc, accuracy = model.evaluate(test_X, test_y)\n",
    "\n",
    "print(\"==================================================\")\n",
    "print(\"Accuracy for testing date\",accuracy*100 )\n",
    "print(\"==================================================\")\n",
    "\n",
    "\n"
   ]
  }
 ],
 "metadata": {
  "kernelspec": {
   "display_name": "Python 3",
   "language": "python",
   "name": "python3"
  },
  "language_info": {
   "codemirror_mode": {
    "name": "ipython",
    "version": 3
   },
   "file_extension": ".py",
   "mimetype": "text/x-python",
   "name": "python",
   "nbconvert_exporter": "python",
   "pygments_lexer": "ipython3",
   "version": "3.7.4"
  }
 },
 "nbformat": 4,
 "nbformat_minor": 2
}
